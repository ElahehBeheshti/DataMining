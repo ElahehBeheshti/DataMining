{
 "cells": [
  {
   "cell_type": "markdown",
   "metadata": {},
   "source": [
    "<h3> Question1-1"
   ]
  },
  {
   "cell_type": "code",
   "execution_count": 11,
   "metadata": {},
   "outputs": [],
   "source": [
    "#1. Using Python Lists\n",
    "import cProfile"
   ]
  },
  {
   "cell_type": "code",
   "execution_count": 12,
   "metadata": {},
   "outputs": [],
   "source": [
    "# Define matrices using Python lists\n",
    "A = [[3.7827, 3.3454, 3.2341], [2.2122, 3.5678, 3.9087], [1.1234, 2.8934, 5.9087]]\n",
    "B = [[3.1234, 3.0987, 3.1234], [2.1111, 3.2222, 3.3333], [1.0987, 1.3456, 5.1234]]\n",
    "C = [[3.1243, 3.0989, 3.1256], [2.6721, 3.6785, 3.9017], [1.1254, 2.8956, 5.9187]]"
   ]
  },
  {
   "cell_type": "code",
   "execution_count": 13,
   "metadata": {},
   "outputs": [],
   "source": [
    "# Matrix Addition\n",
    "def matrix_addition(A, B):\n",
    "    return [[A[i][j] + B[i][j] for j in range(len(A[0]))] for i in range(len(A))]"
   ]
  },
  {
   "cell_type": "code",
   "execution_count": 14,
   "metadata": {},
   "outputs": [],
   "source": [
    "\n",
    "# Matrix Multiplication\n",
    "def matrix_multiplication(A, B):\n",
    "    return [[sum(A[i][k] * B[k][j] for k in range(len(B))) for j in range(len(B[0]))] for i in range(len(A))]"
   ]
  },
  {
   "cell_type": "code",
   "execution_count": 15,
   "metadata": {},
   "outputs": [
    {
     "name": "stdout",
     "output_type": "stream",
     "text": [
      "         73 function calls in 0.000 seconds\n",
      "\n",
      "   Ordered by: standard name\n",
      "\n",
      "   ncalls  tottime  percall  cumtime  percall filename:lineno(function)\n",
      "        1    0.000    0.000    0.000    0.000 1757977694.py:2(matrix_addition)\n",
      "        1    0.000    0.000    0.000    0.000 2215123019.py:2(matrix_multiplication)\n",
      "       36    0.000    0.000    0.000    0.000 2215123019.py:3(<genexpr>)\n",
      "        1    0.000    0.000    0.000    0.000 2847227594.py:2(matrix_transpose)\n",
      "        1    0.000    0.000    0.000    0.000 2847227594.py:6(profile_list_operations)\n",
      "        1    0.000    0.000    0.000    0.000 <string>:1(<module>)\n",
      "        1    0.000    0.000    0.000    0.000 {built-in method builtins.exec}\n",
      "       21    0.000    0.000    0.000    0.000 {built-in method builtins.len}\n",
      "        9    0.000    0.000    0.000    0.000 {built-in method builtins.sum}\n",
      "        1    0.000    0.000    0.000    0.000 {method 'disable' of '_lsprof.Profiler' objects}\n",
      "\n",
      "\n"
     ]
    }
   ],
   "source": [
    "# Matrix Transpose\n",
    "def matrix_transpose(A):\n",
    "    return [[A[j][i] for j in range(len(A))] for i in range(len(A[0]))]\n",
    "\n",
    "# Profile the functions\n",
    "def profile_list_operations():\n",
    "    matrix_addition(A, B)\n",
    "    matrix_multiplication(A, C)\n",
    "    matrix_transpose(A)\n",
    "\n",
    "cProfile.run('profile_list_operations()')"
   ]
  },
  {
   "cell_type": "markdown",
   "metadata": {},
   "source": [
    "<h3> Question1-2"
   ]
  },
  {
   "cell_type": "code",
   "execution_count": 17,
   "metadata": {},
   "outputs": [
    {
     "name": "stdout",
     "output_type": "stream",
     "text": [
      "         8 function calls in 0.000 seconds\n",
      "\n",
      "   Ordered by: standard name\n",
      "\n",
      "   ncalls  tottime  percall  cumtime  percall filename:lineno(function)\n",
      "        1    0.000    0.000    0.000    0.000 3996505460.py:10(matrix_addition_np)\n",
      "        1    0.000    0.000    0.000    0.000 3996505460.py:14(matrix_multiplication_np)\n",
      "        1    0.000    0.000    0.000    0.000 3996505460.py:18(matrix_transpose_np)\n",
      "        1    0.000    0.000    0.000    0.000 3996505460.py:22(profile_numpy_operations)\n",
      "        1    0.000    0.000    0.000    0.000 <string>:1(<module>)\n",
      "        1    0.000    0.000    0.000    0.000 multiarray.py:741(dot)\n",
      "        1    0.000    0.000    0.000    0.000 {built-in method builtins.exec}\n",
      "        1    0.000    0.000    0.000    0.000 {method 'disable' of '_lsprof.Profiler' objects}\n",
      "\n",
      "\n"
     ]
    }
   ],
   "source": [
    "import cProfile\n",
    "import numpy as np\n",
    "\n",
    "# Define matrices using NumPy arrays\n",
    "A_np = np.array([[3.7827, 3.3454, 3.2341], [2.2122, 3.5678, 3.9087], [1.1234, 2.8934, 5.9087]])\n",
    "B_np = np.array([[3.1234, 3.0987, 3.1234], [2.1111, 3.2222, 3.3333], [1.0987, 1.3456, 5.1234]])\n",
    "C_np = np.array([[3.1243, 3.0989, 3.1256], [2.6721, 3.6785, 3.9017], [1.1254, 2.8956, 5.9187]])\n",
    "\n",
    "# Matrix Addition\n",
    "def matrix_addition_np(A, B):\n",
    "    return A + B\n",
    "\n",
    "# Matrix Multiplication\n",
    "def matrix_multiplication_np(A, B):\n",
    "    return np.dot(A, B)\n",
    "\n",
    "# Matrix Transpose\n",
    "def matrix_transpose_np(A):\n",
    "    return A.T\n",
    "\n",
    "# Profile the functions\n",
    "def profile_numpy_operations():\n",
    "    matrix_addition_np(A_np, B_np)\n",
    "    matrix_multiplication_np(A_np, C_np)\n",
    "    matrix_transpose_np(A_np)\n",
    "\n",
    "cProfile.run('profile_numpy_operations()')"
   ]
  },
  {
   "cell_type": "markdown",
   "metadata": {},
   "source": [
    "<h3> Question2"
   ]
  },
  {
   "cell_type": "code",
   "execution_count": 20,
   "metadata": {},
   "outputs": [],
   "source": [
    "import numpy as np\n",
    "\n",
    "# I. Create a List\n",
    "numbers = [1225, 4986, 6789, 7890, 2345, 6783, 987, 1234, 8765, 3456]\n"
   ]
  },
  {
   "cell_type": "code",
   "execution_count": 21,
   "metadata": {},
   "outputs": [
    {
     "name": "stdout",
     "output_type": "stream",
     "text": [
      "II. Iterate using a for loop:\n",
      "1225\n",
      "4986\n",
      "6789\n",
      "7890\n",
      "2345\n",
      "6783\n",
      "987\n",
      "1234\n",
      "8765\n",
      "3456\n"
     ]
    }
   ],
   "source": [
    "# II. Iterate using a for loop\n",
    "print(\"II. Iterate using a for loop:\")\n",
    "for number in numbers:\n",
    "    print(number)"
   ]
  },
  {
   "cell_type": "code",
   "execution_count": 22,
   "metadata": {},
   "outputs": [
    {
     "name": "stdout",
     "output_type": "stream",
     "text": [
      "\n",
      "III. Iterate using for loop and range:\n",
      "1225\n",
      "4986\n",
      "6789\n",
      "7890\n",
      "2345\n",
      "6783\n",
      "987\n",
      "1234\n",
      "8765\n",
      "3456\n"
     ]
    }
   ],
   "source": [
    "# III. Iterate using for loop and range\n",
    "print(\"\\nIII. Iterate using for loop and range:\")\n",
    "for i in range(len(numbers)):\n",
    "    print(numbers[i])\n",
    "\n"
   ]
  },
  {
   "cell_type": "code",
   "execution_count": 23,
   "metadata": {},
   "outputs": [
    {
     "name": "stdout",
     "output_type": "stream",
     "text": [
      "\n",
      "IV. List Comprehension:\n",
      "[1500625, 24860196, 46090521, 62252100, 5499025, 46009089, 974169, 1522756, 76825225, 11943936]\n"
     ]
    }
   ],
   "source": [
    "# IV. List Comprehension\n",
    "print(\"\\nIV. List Comprehension:\")\n",
    "squared_numbers = [x**2 for x in numbers]\n",
    "print(squared_numbers)\n",
    "\n"
   ]
  },
  {
   "cell_type": "code",
   "execution_count": 24,
   "metadata": {},
   "outputs": [
    {
     "name": "stdout",
     "output_type": "stream",
     "text": [
      "\n",
      "V. Enumerate:\n",
      "Index 0: 1225\n",
      "Index 1: 4986\n",
      "Index 2: 6789\n",
      "Index 3: 7890\n",
      "Index 4: 2345\n",
      "Index 5: 6783\n",
      "Index 6: 987\n",
      "Index 7: 1234\n",
      "Index 8: 8765\n",
      "Index 9: 3456\n"
     ]
    }
   ],
   "source": [
    "# V. Enumerate\n",
    "print(\"\\nV. Enumerate:\")\n",
    "for index, number in enumerate(numbers):\n",
    "    print(f\"Index {index}: {number}\")\n",
    "\n"
   ]
  },
  {
   "cell_type": "code",
   "execution_count": 25,
   "metadata": {},
   "outputs": [
    {
     "name": "stdout",
     "output_type": "stream",
     "text": [
      "\n",
      "VI. Iter function and next function:\n",
      "1225\n",
      "4986\n",
      "6789\n"
     ]
    }
   ],
   "source": [
    "# VI. Iter function and next function\n",
    "print(\"\\nVI. Iter function and next function:\")\n",
    "num_iter = iter(numbers)\n",
    "print(next(num_iter))\n",
    "print(next(num_iter))\n",
    "print(next(num_iter))\n",
    "\n"
   ]
  },
  {
   "cell_type": "code",
   "execution_count": 26,
   "metadata": {},
   "outputs": [
    {
     "name": "stdout",
     "output_type": "stream",
     "text": [
      "\n",
      "VII. Map function:\n",
      "[1500625, 24860196, 46090521, 62252100, 5499025, 46009089, 974169, 1522756, 76825225, 11943936]\n"
     ]
    }
   ],
   "source": [
    "# VII. Map function\n",
    "print(\"\\nVII. Map function:\")\n",
    "def square(x):\n",
    "    return x * x\n",
    "squared_numbers_map = list(map(square, numbers))\n",
    "print(squared_numbers_map)\n",
    "\n"
   ]
  },
  {
   "cell_type": "code",
   "execution_count": 27,
   "metadata": {},
   "outputs": [
    {
     "name": "stdout",
     "output_type": "stream",
     "text": [
      "\n",
      "VIII. Using zip:\n",
      "Number One: 1225\n",
      "Number Two: 4986\n",
      "Number Three: 6789\n",
      "Number Four: 7890\n",
      "Number Five: 2345\n",
      "Number Six: 6783\n",
      "Number Seven: 987\n",
      "Number Eight: 1234\n",
      "Number Nine: 8765\n",
      "Number Ten: 3456\n"
     ]
    }
   ],
   "source": [
    "# VIII. Using zip\n",
    "print(\"\\nVIII. Using zip:\")\n",
    "names = [\"Number One\", \"Number Two\", \"Number Three\", \"Number Four\", \"Number Five\", \n",
    "         \"Number Six\", \"Number Seven\", \"Number Eight\", \"Number Nine\", \"Number Ten\"]\n",
    "for name, number in zip(names, numbers):\n",
    "    print(f\"{name}: {number}\")\n",
    "\n"
   ]
  },
  {
   "cell_type": "code",
   "execution_count": 28,
   "metadata": {},
   "outputs": [
    {
     "name": "stdout",
     "output_type": "stream",
     "text": [
      "\n",
      "IX. Using NumPy Module:\n",
      "NumPy Array: [1225 4986 6789 7890 2345 6783  987 1234 8765 3456]\n",
      "Array Mean: 4446.0\n",
      "Array Standard Deviation: 2825.0395041485704\n"
     ]
    }
   ],
   "source": [
    "# IX. Using NumPy Module\n",
    "print(\"\\nIX. Using NumPy Module:\")\n",
    "np_numbers = np.array(numbers)\n",
    "print(\"NumPy Array:\", np_numbers)\n",
    "print(\"Array Mean:\", np.mean(np_numbers))\n",
    "print(\"Array Standard Deviation:\", np.std(np_numbers))"
   ]
  },
  {
   "cell_type": "markdown",
   "metadata": {},
   "source": [
    "<h3>Question3"
   ]
  },
  {
   "cell_type": "code",
   "execution_count": 29,
   "metadata": {},
   "outputs": [
    {
     "name": "stdout",
     "output_type": "stream",
     "text": [
      "Permutations:\n",
      "ABCDE\n",
      "ABCED\n",
      "ABDCE\n",
      "ABDEC\n",
      "ABEDC\n",
      "ABECD\n",
      "ACBDE\n",
      "ACBED\n",
      "ACDBE\n",
      "ACDEB\n",
      "ACEDB\n",
      "ACEBD\n",
      "ADCBE\n",
      "ADCEB\n",
      "ADBCE\n",
      "ADBEC\n",
      "ADEBC\n",
      "ADECB\n",
      "AECDB\n",
      "AECBD\n",
      "AEDCB\n",
      "AEDBC\n",
      "AEBDC\n",
      "AEBCD\n",
      "BACDE\n",
      "BACED\n",
      "BADCE\n",
      "BADEC\n",
      "BAEDC\n",
      "BAECD\n",
      "BCADE\n",
      "BCAED\n",
      "BCDAE\n",
      "BCDEA\n",
      "BCEDA\n",
      "BCEAD\n",
      "BDCAE\n",
      "BDCEA\n",
      "BDACE\n",
      "BDAEC\n",
      "BDEAC\n",
      "BDECA\n",
      "BECDA\n",
      "BECAD\n",
      "BEDCA\n",
      "BEDAC\n",
      "BEADC\n",
      "BEACD\n",
      "CBADE\n",
      "CBAED\n",
      "CBDAE\n",
      "CBDEA\n",
      "CBEDA\n",
      "CBEAD\n",
      "CABDE\n",
      "CABED\n",
      "CADBE\n",
      "CADEB\n",
      "CAEDB\n",
      "CAEBD\n",
      "CDABE\n",
      "CDAEB\n",
      "CDBAE\n",
      "CDBEA\n",
      "CDEBA\n",
      "CDEAB\n",
      "CEADB\n",
      "CEABD\n",
      "CEDAB\n",
      "CEDBA\n",
      "CEBDA\n",
      "CEBAD\n",
      "DBCAE\n",
      "DBCEA\n",
      "DBACE\n",
      "DBAEC\n",
      "DBEAC\n",
      "DBECA\n",
      "DCBAE\n",
      "DCBEA\n",
      "DCABE\n",
      "DCAEB\n",
      "DCEAB\n",
      "DCEBA\n",
      "DACBE\n",
      "DACEB\n",
      "DABCE\n",
      "DABEC\n",
      "DAEBC\n",
      "DAECB\n",
      "DECAB\n",
      "DECBA\n",
      "DEACB\n",
      "DEABC\n",
      "DEBAC\n",
      "DEBCA\n",
      "EBCDA\n",
      "EBCAD\n",
      "EBDCA\n",
      "EBDAC\n",
      "EBADC\n",
      "EBACD\n",
      "ECBDA\n",
      "ECBAD\n",
      "ECDBA\n",
      "ECDAB\n",
      "ECADB\n",
      "ECABD\n",
      "EDCBA\n",
      "EDCAB\n",
      "EDBCA\n",
      "EDBAC\n",
      "EDABC\n",
      "EDACB\n",
      "EACDB\n",
      "EACBD\n",
      "EADCB\n",
      "EADBC\n",
      "EABDC\n",
      "EABCD\n",
      "\n",
      "Combinations of Length 3:\n",
      "ABC\n",
      "ABD\n",
      "ABE\n",
      "ACD\n",
      "ACE\n",
      "ADE\n",
      "BCD\n",
      "BCE\n",
      "BDE\n",
      "CDE\n"
     ]
    }
   ],
   "source": [
    "def permute(data, i, length):\n",
    "    if i == length:\n",
    "        print(''.join(data))\n",
    "    else:\n",
    "        for j in range(i, length):\n",
    "            # swap\n",
    "            data[i], data[j] = data[j], data[i]\n",
    "            permute(data, i + 1, length)\n",
    "            data[i], data[j] = data[j], data[i]  # backtrack\n",
    "\n",
    "def combine(data, start, index, length, curr):\n",
    "    if index == length:\n",
    "        print(''.join(curr))\n",
    "        return\n",
    "    for i in range(start, len(data)):\n",
    "        curr[index] = data[i]\n",
    "        combine(data, i + 1, index + 1, length, curr)\n",
    "\n",
    "# Define the list\n",
    "elements = list('ABCDE')\n",
    "\n",
    "# All permutations\n",
    "print(\"Permutations:\")\n",
    "permute(elements, 0, len(elements))\n",
    "\n",
    "# Combinations of length 3\n",
    "print(\"\\nCombinations of Length 3:\")\n",
    "combine(elements, 0, 0, 3, [None]*3)"
   ]
  },
  {
   "cell_type": "markdown",
   "metadata": {},
   "source": [
    "<h3>Question4"
   ]
  },
  {
   "cell_type": "code",
   "execution_count": 30,
   "metadata": {},
   "outputs": [
    {
     "name": "stdout",
     "output_type": "stream",
     "text": [
      "All Permutations:\n",
      "ABCDE\n",
      "ABCED\n",
      "ABDCE\n",
      "ABDEC\n",
      "ABECD\n",
      "ABEDC\n",
      "ACBDE\n",
      "ACBED\n",
      "ACDBE\n",
      "ACDEB\n",
      "ACEBD\n",
      "ACEDB\n",
      "ADBCE\n",
      "ADBEC\n",
      "ADCBE\n",
      "ADCEB\n",
      "ADEBC\n",
      "ADECB\n",
      "AEBCD\n",
      "AEBDC\n",
      "AECBD\n",
      "AECDB\n",
      "AEDBC\n",
      "AEDCB\n",
      "BACDE\n",
      "BACED\n",
      "BADCE\n",
      "BADEC\n",
      "BAECD\n",
      "BAEDC\n",
      "BCADE\n",
      "BCAED\n",
      "BCDAE\n",
      "BCDEA\n",
      "BCEAD\n",
      "BCEDA\n",
      "BDACE\n",
      "BDAEC\n",
      "BDCAE\n",
      "BDCEA\n",
      "BDEAC\n",
      "BDECA\n",
      "BEACD\n",
      "BEADC\n",
      "BECAD\n",
      "BECDA\n",
      "BEDAC\n",
      "BEDCA\n",
      "CABDE\n",
      "CABED\n",
      "CADBE\n",
      "CADEB\n",
      "CAEBD\n",
      "CAEDB\n",
      "CBADE\n",
      "CBAED\n",
      "CBDAE\n",
      "CBDEA\n",
      "CBEAD\n",
      "CBEDA\n",
      "CDABE\n",
      "CDAEB\n",
      "CDBAE\n",
      "CDBEA\n",
      "CDEAB\n",
      "CDEBA\n",
      "CEABD\n",
      "CEADB\n",
      "CEBAD\n",
      "CEBDA\n",
      "CEDAB\n",
      "CEDBA\n",
      "DABCE\n",
      "DABEC\n",
      "DACBE\n",
      "DACEB\n",
      "DAEBC\n",
      "DAECB\n",
      "DBACE\n",
      "DBAEC\n",
      "DBCAE\n",
      "DBCEA\n",
      "DBEAC\n",
      "DBECA\n",
      "DCABE\n",
      "DCAEB\n",
      "DCBAE\n",
      "DCBEA\n",
      "DCEAB\n",
      "DCEBA\n",
      "DEABC\n",
      "DEACB\n",
      "DEBAC\n",
      "DEBCA\n",
      "DECAB\n",
      "DECBA\n",
      "EABCD\n",
      "EABDC\n",
      "EACBD\n",
      "EACDB\n",
      "EADBC\n",
      "EADCB\n",
      "EBACD\n",
      "EBADC\n",
      "EBCAD\n",
      "EBCDA\n",
      "EBDAC\n",
      "EBDCA\n",
      "ECABD\n",
      "ECADB\n",
      "ECBAD\n",
      "ECBDA\n",
      "ECDAB\n",
      "ECDBA\n",
      "EDABC\n",
      "EDACB\n",
      "EDBAC\n",
      "EDBCA\n",
      "EDCAB\n",
      "EDCBA\n",
      "\n",
      "Combinations of Length 3:\n",
      "ABC\n",
      "ABD\n",
      "ABE\n",
      "ACD\n",
      "ACE\n",
      "ADE\n",
      "BCD\n",
      "BCE\n",
      "BDE\n",
      "CDE\n"
     ]
    }
   ],
   "source": [
    "import itertools\n",
    "\n",
    "# Define the list\n",
    "elements = ['A', 'B', 'C', 'D', 'E']\n",
    "\n",
    "# Compute all permutations of the list\n",
    "print(\"All Permutations:\")\n",
    "for perm in itertools.permutations(elements):\n",
    "    print(''.join(perm))\n",
    "\n",
    "# Compute all combinations of the list for length 3\n",
    "print(\"\\nCombinations of Length 3:\")\n",
    "for combo in itertools.combinations(elements, 3):\n",
    "    print(''.join(combo))"
   ]
  },
  {
   "cell_type": "code",
   "execution_count": null,
   "metadata": {},
   "outputs": [],
   "source": []
  }
 ],
 "metadata": {
  "kernelspec": {
   "display_name": "Elaenv",
   "language": "python",
   "name": "python3"
  },
  "language_info": {
   "codemirror_mode": {
    "name": "ipython",
    "version": 3
   },
   "file_extension": ".py",
   "mimetype": "text/x-python",
   "name": "python",
   "nbconvert_exporter": "python",
   "pygments_lexer": "ipython3",
   "version": "3.12.4"
  }
 },
 "nbformat": 4,
 "nbformat_minor": 2
}
